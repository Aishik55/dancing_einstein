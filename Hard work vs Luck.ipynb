{
 "cells": [
  {
   "cell_type": "code",
   "execution_count": 1,
   "id": "2bfb90e4",
   "metadata": {
    "ExecuteTime": {
     "end_time": "2023-04-15T18:01:12.560889Z",
     "start_time": "2023-04-15T18:01:02.769033Z"
    },
    "code_folding": [
     0
    ]
   },
   "outputs": [
    {
     "data": {
      "text/html": [
       "        <script type=\"text/javascript\">\n",
       "        window.PlotlyConfig = {MathJaxConfig: 'local'};\n",
       "        if (window.MathJax && window.MathJax.Hub && window.MathJax.Hub.Config) {window.MathJax.Hub.Config({SVG: {font: \"STIX-Web\"}});}\n",
       "        if (typeof require !== 'undefined') {\n",
       "        require.undef(\"plotly\");\n",
       "        requirejs.config({\n",
       "            paths: {\n",
       "                'plotly': ['https://cdn.plot.ly/plotly-2.12.1.min']\n",
       "            }\n",
       "        });\n",
       "        require(['plotly'], function(Plotly) {\n",
       "            window._Plotly = Plotly;\n",
       "        });\n",
       "        }\n",
       "        </script>\n",
       "        "
      ]
     },
     "metadata": {},
     "output_type": "display_data"
    }
   ],
   "source": [
    "# IMPORT Libs\n",
    "%config Completer.use_jedi = False\n",
    "\n",
    "import math\n",
    "from tqdm import tqdm\n",
    "import numpy as np\n",
    "import pandas as pd\n",
    "import itertools\n",
    "import matplotlib.pyplot as plt\n",
    "import seaborn as sns\n",
    "from scipy import stats\n",
    "from ipywidgets import widgets, fixed\n",
    "from IPython.display import display\n",
    "\n",
    "import datetime as dt\n",
    "import plotly.express as px\n",
    "import plotly.graph_objects as go\n",
    "from plotly.subplots import make_subplots\n",
    "import plotly.offline as pyo\n",
    "pyo.init_notebook_mode(connected=True)\n",
    "# %matplotlib notebook\n",
    "\n",
    "pd.set_option('display.max_columns', None)\n",
    "sns.set_theme()\n",
    "\n",
    "import warnings\n",
    "warnings.filterwarnings('ignore')\n",
    "\n",
    "from sklearn.model_selection import train_test_split\n",
    "from sklearn import preprocessing\n",
    "from copy import deepcopy\n",
    "\n",
    "import igraph\n",
    "from igraph import Graph, EdgeSeq"
   ]
  },
  {
   "cell_type": "code",
   "execution_count": 57,
   "id": "d3fbdeda",
   "metadata": {
    "ExecuteTime": {
     "end_time": "2023-04-03T06:31:43.674134Z",
     "start_time": "2023-04-03T06:31:37.149912Z"
    },
    "code_folding": []
   },
   "outputs": [
    {
     "name": "stderr",
     "output_type": "stream",
     "text": [
      "100%|██████████████████████████████████████| 1000/1000 [00:06<00:00, 153.47it/s]\n"
     ]
    }
   ],
   "source": [
    "perc = []\n",
    "n = 18300\n",
    "s = 11\n",
    "\n",
    "for i in tqdm(range(1000)):\n",
    "    _df=pd.DataFrame(columns=['luck', 'hard_work', 'success'])\n",
    "\n",
    "    _df['luck'] = np.random.rand(n)\n",
    "    _df['hard_work'] = np.random.rand(n)\n",
    "    _df['success'] = 0.95*_df['hard_work'] + 0.05*_df['luck']\n",
    "\n",
    "    success_ids = _df.sort_values('success', ascending=False).index[:s]\n",
    "    hard_work_ids = _df.sort_values('hard_work', ascending=False).index[:s]\n",
    "\n",
    "    perc.append(len(set.intersection(set(success_ids), set(hard_work_ids)))/s)\n",
    "    "
   ]
  },
  {
   "cell_type": "code",
   "execution_count": 58,
   "id": "cee41df6",
   "metadata": {
    "ExecuteTime": {
     "end_time": "2023-04-03T06:31:43.956382Z",
     "start_time": "2023-04-03T06:31:43.951735Z"
    },
    "scrolled": true
   },
   "outputs": [
    {
     "data": {
      "text/plain": [
       "0.14363636363636362"
      ]
     },
     "execution_count": 58,
     "metadata": {},
     "output_type": "execute_result"
    }
   ],
   "source": [
    "np.mean(perc)"
   ]
  },
  {
   "cell_type": "code",
   "execution_count": null,
   "id": "ff756750",
   "metadata": {},
   "outputs": [],
   "source": []
  }
 ],
 "metadata": {
  "hide_input": false,
  "kernelspec": {
   "display_name": "Python 3 (ipykernel)",
   "language": "python",
   "name": "python3"
  },
  "language_info": {
   "codemirror_mode": {
    "name": "ipython",
    "version": 3
   },
   "file_extension": ".py",
   "mimetype": "text/x-python",
   "name": "python",
   "nbconvert_exporter": "python",
   "pygments_lexer": "ipython3",
   "version": "3.7.7"
  },
  "toc": {
   "base_numbering": 1,
   "nav_menu": {},
   "number_sections": true,
   "sideBar": true,
   "skip_h1_title": false,
   "title_cell": "Table of Contents",
   "title_sidebar": "Contents",
   "toc_cell": false,
   "toc_position": {},
   "toc_section_display": true,
   "toc_window_display": false
  }
 },
 "nbformat": 4,
 "nbformat_minor": 5
}
